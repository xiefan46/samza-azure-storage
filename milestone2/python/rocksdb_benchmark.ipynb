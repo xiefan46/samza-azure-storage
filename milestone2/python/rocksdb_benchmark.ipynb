{
 "cells": [
  {
   "cell_type": "code",
   "execution_count": 1,
   "metadata": {},
   "outputs": [],
   "source": [
    "%load_ext autoreload\n",
    "%autoreload 2"
   ]
  },
  {
   "cell_type": "code",
   "execution_count": 10,
   "metadata": {},
   "outputs": [],
   "source": [
    "import sys\n",
    "sys.path.append(\"/home/fxie/samza-azure-storage/milestone2/python/library\")"
   ]
  },
  {
   "cell_type": "code",
   "execution_count": 11,
   "metadata": {
    "scrolled": true
   },
   "outputs": [],
   "source": [
    "from library.Benchmark2 import *"
   ]
  },
  {
   "cell_type": "code",
   "execution_count": null,
   "metadata": {},
   "outputs": [],
   "source": [
    "#bulk 50GB, overwrite 5GB, remove no cache because it's too slow\n",
    "def test_data_disk_bulk_and_overwrite_with_compression():\n",
    "    rocks_db_dir = \"/home/fxie/rocksdb\"\n",
    "    for test_dir in [\"/read_cache\", \"/readwrite_cache\"]:\n",
    "        print(f\"test dir {test_dir}\")\n",
    "        benchmark2 = Benchmark2(rocks_db_dir = rocks_db_dir, test_dir = test_dir)\n",
    "        benchmark2.para_map[\"COMPRESSION_TYPE\"] = \"snappy\"\n",
    "        benchmark2.para_map[\"CACHE_SIZE\"] = \"104857600\"\n",
    "        benchmark2.para_map[\"NUM_KEYS\"] = \"125000000\"\n",
    "        benchmark2.bulkload()\n",
    "        \n",
    "        #reduce kv num\n",
    "        benchmark2.para_map[\"NUM_KEYS\"] = \"12500000\"\n",
    "        benchmark2.overwrite()\n",
    "        benchmark2.clean_up()\n",
    "        time.sleep(60)"
   ]
  }
 ],
 "metadata": {
  "kernelspec": {
   "display_name": "Python 3",
   "language": "python",
   "name": "python3"
  },
  "language_info": {
   "codemirror_mode": {
    "name": "ipython",
    "version": 3
   },
   "file_extension": ".py",
   "mimetype": "text/x-python",
   "name": "python",
   "nbconvert_exporter": "python",
   "pygments_lexer": "ipython3",
   "version": "3.7.3"
  }
 },
 "nbformat": 4,
 "nbformat_minor": 2
}
