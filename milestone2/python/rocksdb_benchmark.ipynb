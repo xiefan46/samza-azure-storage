{
 "cells": [
  {
   "cell_type": "code",
   "execution_count": 1,
   "metadata": {},
   "outputs": [],
   "source": [
    "%load_ext autoreload\n",
    "%autoreload 2"
   ]
  },
  {
   "cell_type": "code",
   "execution_count": 2,
   "metadata": {
    "scrolled": true
   },
   "outputs": [],
   "source": [
    "from library.Benchmark2 import *\n",
    "import time"
   ]
  },
  {
   "cell_type": "code",
   "execution_count": 19,
   "metadata": {},
   "outputs": [],
   "source": [
    "#bulk 100GB, overwrite 100GB\n",
    "def test_data_disk_bulk_and_overwrite_with_compression(test_dir):\n",
    "    rocks_db_dir = \"/home/fxie/rocksdb\"\n",
    "    print(f\"test dir {test_dir}\")\n",
    "    benchmark2 = Benchmark2(rocks_db_dir = rocks_db_dir, test_dir = test_dir)\n",
    "    benchmark2.para_map[\"COMPRESSION_TYPE\"] = \"none\"\n",
    "    benchmark2.para_map[\"CACHE_SIZE\"] = \"104857600\"\n",
    "    benchmark2.para_map[\"NUM_KEYS\"] = \"250000000\"\n",
    "    benchmark2.bulkload()\n",
    "        \n",
    "    #reduce kv num\n",
    "    #benchmark2.para_map[\"NUM_KEYS\"] = \"25000000\"\n",
    "    benchmark2.overwrite()\n",
    "        \n",
    "    benchmark2.readrandom()\n",
    "        \n",
    "    benchmark2.clean_up()   "
   ]
  },
  {
   "cell_type": "code",
   "execution_count": 20,
   "metadata": {},
   "outputs": [
    {
     "name": "stdout",
     "output_type": "stream",
     "text": [
      "test dir /read_cache\n",
      "Setup a new test root. Test root dir /read_cache/test-374508858\n",
      "running bulk load\n",
      " KEY_SIZE=20 VALUE_SIZE=400 DB_DIR=/read_cache/test-374508858/db OUTPUT_DIR=/read_cache/test-374508858/output WAL_DIR=/read_cache/test-374508858/wal TEMP=/read_cache/test-374508858/tmp COMPRESSION_TYPE=none CACHE_SIZE=104857600 NUM_KEYS=250000000 /home/fxie/rocksdb/tools/benchmark.sh bulkload\n",
      "iostat monitor thread : iostat-bulkload start. timestamp : 2019-07-31 22:59:41.578309\n",
      "iostat monitor thread : iostat-bulkload end. timestamp : 2019-07-31 22:59:41.582410\n",
      "===== Benchmark =====\n",
      "Start bulkload at Wed Jul 31 22:59:41 UTC 2019\n",
      "Bulk loading 250000000 random keys\n",
      "./db_bench --benchmarks=fillrandom --use_existing_db=0 --disable_auto_compactions=1 --sync=0 --db=/read_cache/test-374508858/db --wal_dir=/read_cache/test-374508858/wal --num=250000000 --disable_wal=true --num_levels=6 --key_size=20 --value_size=400 --block_size=8192 --cache_size=104857600 --cache_numshardbits=6 --compression_max_dict_bytes=0 --compression_ratio=0.5 --compression_type=none --level_compaction_dynamic_level_bytes=true --bytes_per_sync=8388608 --cache_index_and_filter_blocks=0 --pin_l0_filter_and_index_blocks_in_cache=1 --benchmark_write_rate_limit=0 --hard_rate_limit=3 --rate_limit_delay_max_milliseconds=1000000 --write_buffer_size=134217728 --target_file_size_base=134217728 --max_bytes_for_level_base=1073741824 --verify_checksum=1 --delete_obsolete_files_period_micros=62914560 --max_bytes_for_level_multiplier=8 --statistics=0 --stats_per_interval=1 --stats_interval_seconds=60 --histogram=1 --memtablerep=skip_list --bloom_bits=10 --open_files=-1 --max_background_compactions=16 --max_write_buffer_number=8 --allow_concurrent_memtable_write=false --max_background_flushes=7 --level0_file_num_compaction_trigger=10485760 --level0_slowdown_writes_trigger=10485760 --level0_stop_writes_trigger=10485760 --threads=1 --memtablerep=vector --allow_concurrent_memtable_write=false --disable_wal=1 --seed=1564613981 2>&1 | tee -a /read_cache/test-374508858/output/benchmark_bulkload_fillrandom.log\n",
      "open error: IO error: No such file or directoryWhile mkdir if missing: /read_cache/test-374508858/wal: No such file or directory\n",
      "Initializing RocksDB Options from the specified file\n",
      "Initializing RocksDB Options from command-line flags\n",
      "Compacting...\n",
      "./db_bench --benchmarks=compact --use_existing_db=1 --disable_auto_compactions=1 --sync=0 --db=/read_cache/test-374508858/db --wal_dir=/read_cache/test-374508858/wal --num=250000000 --disable_wal=true --num_levels=6 --key_size=20 --value_size=400 --block_size=8192 --cache_size=104857600 --cache_numshardbits=6 --compression_max_dict_bytes=0 --compression_ratio=0.5 --compression_type=none --level_compaction_dynamic_level_bytes=true --bytes_per_sync=8388608 --cache_index_and_filter_blocks=0 --pin_l0_filter_and_index_blocks_in_cache=1 --benchmark_write_rate_limit=0 --hard_rate_limit=3 --rate_limit_delay_max_milliseconds=1000000 --write_buffer_size=134217728 --target_file_size_base=134217728 --max_bytes_for_level_base=1073741824 --verify_checksum=1 --delete_obsolete_files_period_micros=62914560 --max_bytes_for_level_multiplier=8 --statistics=0 --stats_per_interval=1 --stats_interval_seconds=60 --histogram=1 --memtablerep=skip_list --bloom_bits=10 --open_files=-1 --level0_file_num_compaction_trigger=4 --level0_stop_writes_trigger=20 --max_background_compactions=16 --max_write_buffer_number=8 --max_background_flushes=7 --threads=1 2>&1 | tee -a /read_cache/test-374508858/output/benchmark_bulkload_compact.log\n",
      "open error: IO error: No such file or directoryWhile mkdir if missing: /read_cache/test-374508858/wal: No such file or directory\n",
      "Initializing RocksDB Options from the specified file\n",
      "Initializing RocksDB Options from command-line flags\n",
      "Complete bulkload in 0 seconds\n",
      "ops/sec\tmb/sec\tSize-GB\tL0_GB\tSum_GB\tW-Amp\tW-MB/s\tusec/op\tp50\tp75\tp99\tp99.9\tp99.99\tUptime\tStall-time\tStall%\tTest\n",
      "\n",
      "bulk load done\n",
      "running overwrite \n",
      " KEY_SIZE=20 VALUE_SIZE=400 DB_DIR=/read_cache/test-374508858/db OUTPUT_DIR=/read_cache/test-374508858/output WAL_DIR=/read_cache/test-374508858/wal TEMP=/read_cache/test-374508858/tmp COMPRESSION_TYPE=none CACHE_SIZE=104857600 NUM_KEYS=250000000 NUM_THREADS=1 /home/fxie/rocksdb/tools/benchmark.sh overwrite\n",
      "iostat monitor thread : iostat-overwrite start. timestamp : 2019-07-31 22:59:41.669120\n",
      "iostat monitor thread : iostat-overwrite end. timestamp : 2019-07-31 22:59:41.673915\n",
      "===== Benchmark =====\n",
      "Start overwrite at Wed Jul 31 22:59:41 UTC 2019\n",
      "Do 250000000 random overwrite\n",
      "./db_bench --benchmarks=overwrite --use_existing_db=1 --sync=0 --db=/read_cache/test-374508858/db --wal_dir=/read_cache/test-374508858/wal --num=250000000 --disable_wal=true --num_levels=6 --key_size=20 --value_size=400 --block_size=8192 --cache_size=104857600 --cache_numshardbits=6 --compression_max_dict_bytes=0 --compression_ratio=0.5 --compression_type=none --level_compaction_dynamic_level_bytes=true --bytes_per_sync=8388608 --cache_index_and_filter_blocks=0 --pin_l0_filter_and_index_blocks_in_cache=1 --benchmark_write_rate_limit=0 --hard_rate_limit=3 --rate_limit_delay_max_milliseconds=1000000 --write_buffer_size=134217728 --target_file_size_base=134217728 --max_bytes_for_level_base=1073741824 --verify_checksum=1 --delete_obsolete_files_period_micros=62914560 --max_bytes_for_level_multiplier=8 --statistics=0 --stats_per_interval=1 --stats_interval_seconds=60 --histogram=1 --memtablerep=skip_list --bloom_bits=10 --open_files=-1 --level0_file_num_compaction_trigger=4 --level0_stop_writes_trigger=20 --max_background_compactions=16 --max_write_buffer_number=8 --max_background_flushes=7 --writes=-1 --subcompactions=4 --soft_pending_compaction_bytes_limit=0 --hard_pending_compaction_bytes_limit=0 --threads=1 --merge_operator=\"put\" --seed=1564613981 2>&1 | tee -a /read_cache/test-374508858/output/benchmark_overwrite.t1.s0.log\n",
      "open error: IO error: No such file or directoryWhile mkdir if missing: /read_cache/test-374508858/wal: No such file or directory\n",
      "Initializing RocksDB Options from the specified file\n",
      "Initializing RocksDB Options from command-line flags\n",
      "Complete overwrite in 0 seconds\n",
      "ops/sec\tmb/sec\tSize-GB\tL0_GB\tSum_GB\tW-Amp\tW-MB/s\tusec/op\tp50\tp75\tp99\tp99.9\tp99.99\tUptime\tStall-time\tStall%\tTest\n",
      "\n",
      "overwrite done\n",
      "running readrandom \n",
      " KEY_SIZE=20 VALUE_SIZE=400 DB_DIR=/read_cache/test-374508858/db OUTPUT_DIR=/read_cache/test-374508858/output WAL_DIR=/read_cache/test-374508858/wal TEMP=/read_cache/test-374508858/tmp COMPRESSION_TYPE=none CACHE_SIZE=104857600 NUM_KEYS=250000000 NUM_THREADS=1 /home/fxie/rocksdb/tools/benchmark.sh readrandom\n",
      "iostat monitor thread : iostat-readrandom start. timestamp : 2019-07-31 22:59:41.748136\n",
      "iostat monitor thread : iostat-readrandom end. timestamp : 2019-07-31 22:59:41.752105\n",
      "===== Benchmark =====\n",
      "Start readrandom at Wed Jul 31 22:59:41 UTC 2019\n",
      "Reading 250000000 random keys\n",
      "./db_bench --benchmarks=readrandom --use_existing_db=1 --db=/read_cache/test-374508858/db --wal_dir=/read_cache/test-374508858/wal --num=250000000 --disable_wal=true --num_levels=6 --key_size=20 --value_size=400 --block_size=8192 --cache_size=104857600 --cache_numshardbits=6 --compression_max_dict_bytes=0 --compression_ratio=0.5 --compression_type=none --level_compaction_dynamic_level_bytes=true --bytes_per_sync=8388608 --cache_index_and_filter_blocks=0 --pin_l0_filter_and_index_blocks_in_cache=1 --benchmark_write_rate_limit=0 --hard_rate_limit=3 --rate_limit_delay_max_milliseconds=1000000 --write_buffer_size=134217728 --target_file_size_base=134217728 --max_bytes_for_level_base=1073741824 --verify_checksum=1 --delete_obsolete_files_period_micros=62914560 --max_bytes_for_level_multiplier=8 --statistics=0 --stats_per_interval=1 --stats_interval_seconds=60 --histogram=1 --memtablerep=skip_list --bloom_bits=10 --open_files=-1 --level0_file_num_compaction_trigger=4 --level0_stop_writes_trigger=20 --max_background_compactions=16 --max_write_buffer_number=8 --max_background_flushes=7 --threads=1 --seed=1564613981 2>&1 | tee -a /read_cache/test-374508858/output/benchmark_readrandom.t1.log\n",
      "open error: IO error: No such file or directoryWhile mkdir if missing: /read_cache/test-374508858/wal: No such file or directory\n",
      "Initializing RocksDB Options from the specified file\n",
      "Initializing RocksDB Options from command-line flags\n",
      "Complete readrandom in 0 seconds\n",
      "ops/sec\tmb/sec\tSize-GB\tL0_GB\tSum_GB\tW-Amp\tW-MB/s\tusec/op\tp50\tp75\tp99\tp99.9\tp99.99\tUptime\tStall-time\tStall%\tTest\n",
      "\n",
      "readrandom done\n"
     ]
    }
   ],
   "source": [
    "test_data_disk_bulk_and_overwrite_with_compression(\"/read_cache\")"
   ]
  },
  {
   "cell_type": "code",
   "execution_count": null,
   "metadata": {},
   "outputs": [],
   "source": []
  }
 ],
 "metadata": {
  "kernelspec": {
   "display_name": "Python 3",
   "language": "python",
   "name": "python3"
  },
  "language_info": {
   "codemirror_mode": {
    "name": "ipython",
    "version": 3
   },
   "file_extension": ".py",
   "mimetype": "text/x-python",
   "name": "python",
   "nbconvert_exporter": "python",
   "pygments_lexer": "ipython3",
   "version": "3.6.8"
  }
 },
 "nbformat": 4,
 "nbformat_minor": 2
}
