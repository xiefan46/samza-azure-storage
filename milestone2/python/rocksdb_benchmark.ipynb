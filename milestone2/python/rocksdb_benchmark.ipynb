{
 "cells": [
  {
   "cell_type": "code",
   "execution_count": 1,
   "metadata": {},
   "outputs": [],
   "source": [
    "%load_ext autoreload\n",
    "%autoreload 2"
   ]
  },
  {
   "cell_type": "code",
   "execution_count": 9,
   "metadata": {},
   "outputs": [],
   "source": [
    "import sys\n",
    "sys.path.append(\"/home/fxie/samza-azure-storage/milestone2/python\")"
   ]
  },
  {
   "cell_type": "code",
   "execution_count": 11,
   "metadata": {
    "scrolled": true
   },
   "outputs": [
    {
     "ename": "SyntaxError",
     "evalue": "invalid syntax (<ipython-input-11-d44f2812ab7f>, line 1)",
     "output_type": "error",
     "traceback": [
      "\u001b[0;36m  File \u001b[0;32m\"<ipython-input-11-d44f2812ab7f>\"\u001b[0;36m, line \u001b[0;32m1\u001b[0m\n\u001b[0;31m    form library.Benchmark2 import *\u001b[0m\n\u001b[0m               ^\u001b[0m\n\u001b[0;31mSyntaxError\u001b[0m\u001b[0;31m:\u001b[0m invalid syntax\n"
     ]
    }
   ],
   "source": [
    "form library.Benchmark2 import *"
   ]
  },
  {
   "cell_type": "code",
   "execution_count": null,
   "metadata": {},
   "outputs": [],
   "source": [
    "#bulk 50GB, overwrite 5GB, remove no cache because it's too slow\n",
    "def test_data_disk_bulk_and_overwrite_with_compression():\n",
    "    rocks_db_dir = \"/home/fxie/rocksdb\"\n",
    "    for test_dir in [\"/read_cache\", \"/readwrite_cache\"]:\n",
    "        print(f\"test dir {test_dir}\")\n",
    "        benchmark2 = Benchmark2(rocks_db_dir = rocks_db_dir, test_dir = test_dir)\n",
    "        benchmark2.para_map[\"COMPRESSION_TYPE\"] = \"snappy\"\n",
    "        benchmark2.para_map[\"CACHE_SIZE\"] = \"104857600\"\n",
    "        benchmark2.para_map[\"NUM_KEYS\"] = \"125000000\"\n",
    "        benchmark2.bulkload()\n",
    "        \n",
    "        #reduce kv num\n",
    "        benchmark2.para_map[\"NUM_KEYS\"] = \"12500000\"\n",
    "        benchmark2.overwrite()\n",
    "        benchmark2.clean_up()\n",
    "        time.sleep(60)"
   ]
  }
 ],
 "metadata": {
  "kernelspec": {
   "display_name": "Python 3",
   "language": "python",
   "name": "python3"
  },
  "language_info": {
   "codemirror_mode": {
    "name": "ipython",
    "version": 3
   },
   "file_extension": ".py",
   "mimetype": "text/x-python",
   "name": "python",
   "nbconvert_exporter": "python",
   "pygments_lexer": "ipython3",
   "version": "3.6.8"
  }
 },
 "nbformat": 4,
 "nbformat_minor": 2
}
